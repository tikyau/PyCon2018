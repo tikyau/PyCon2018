{
  "cells": [
    {
      "metadata": {
        "trusted": true
      },
      "cell_type": "code",
      "source": "import azureml.core\nimport pandas as pd\nfrom azureml.core.workspace import Workspace\nfrom azureml.train.automl.run import AutoMLRun\nimport time\nimport logging\nfrom sklearn import datasets\nfrom matplotlib import pyplot as plt\nfrom matplotlib.pyplot import imshow\nimport random\nimport numpy as np",
      "execution_count": 1,
      "outputs": [
        {
          "output_type": "stream",
          "text": "/home/nbuser/anaconda3_501/lib/python3.6/site-packages/sklearn/ensemble/weight_boosting.py:29: DeprecationWarning: numpy.core.umath_tests is an internal NumPy module and should not be imported. It will be removed in a future NumPy release.\n  from numpy.core.umath_tests import inner1d\n",
          "name": "stderr"
        }
      ]
    },
    {
      "metadata": {
        "trusted": true
      },
      "cell_type": "code",
      "source": "ws = Workspace.from_config()\n# project folder to save your local files\nproject_folder = './sample_projects/automl-local-classification'\n# choose a name for the run history container in the workspace\nexperiment_name = 'automl-classifier'\n\nimport os\n\noutput = {}\noutput['SDK version'] = azureml.core.VERSION\noutput['Subscription ID'] = ws.subscription_id\noutput['Workspace'] = ws.name\noutput['Resource Group'] = ws.resource_group\noutput['Location'] = ws.location\noutput['Project Directory'] = project_folder\npd.set_option('display.max_colwidth', -1)\npd.DataFrame(data=output, index=['']).T",
      "execution_count": 2,
      "outputs": [
        {
          "output_type": "stream",
          "text": "Found the config file in: /home/nbuser/library/config.json\nPerforming interactive authentication. Please follow the instructions on the terminal.\n",
          "name": "stdout"
        },
        {
          "output_type": "stream",
          "text": "To sign in, use a web browser to open the page https://microsoft.com/devicelogin and enter the code F7VRPCCE7 to authenticate.\n",
          "name": "stderr"
        },
        {
          "output_type": "stream",
          "text": "Interactive authentication successfully completed.\n",
          "name": "stdout"
        },
        {
          "output_type": "execute_result",
          "execution_count": 2,
          "data": {
            "text/html": "<div>\n<style scoped>\n    .dataframe tbody tr th:only-of-type {\n        vertical-align: middle;\n    }\n\n    .dataframe tbody tr th {\n        vertical-align: top;\n    }\n\n    .dataframe thead th {\n        text-align: right;\n    }\n</style>\n<table border=\"1\" class=\"dataframe\">\n  <thead>\n    <tr style=\"text-align: right;\">\n      <th></th>\n      <th></th>\n    </tr>\n  </thead>\n  <tbody>\n    <tr>\n      <th>SDK version</th>\n      <td>0.1.65</td>\n    </tr>\n    <tr>\n      <th>Subscription ID</th>\n      <td>b9506315-fbe2-4849-956a-488a42545b01</td>\n    </tr>\n    <tr>\n      <th>Workspace</th>\n      <td>leonMLTest</td>\n    </tr>\n    <tr>\n      <th>Resource Group</th>\n      <td>leonAMLTest</td>\n    </tr>\n    <tr>\n      <th>Location</th>\n      <td>southeastasia</td>\n    </tr>\n    <tr>\n      <th>Project Directory</th>\n      <td>./sample_projects/automl-local-classification</td>\n    </tr>\n  </tbody>\n</table>\n</div>",
            "text/plain": "                                                                \nSDK version        0.1.65                                       \nSubscription ID    b9506315-fbe2-4849-956a-488a42545b01         \nWorkspace          leonMLTest                                   \nResource Group     leonAMLTest                                  \nLocation           southeastasia                                \nProject Directory  ./sample_projects/automl-local-classification"
          },
          "metadata": {}
        }
      ]
    },
    {
      "metadata": {
        "trusted": true
      },
      "cell_type": "code",
      "source": "from sklearn import datasets\n\ndigits = datasets.load_digits()\n\n# Exclude the first 100 rows from training so that they can be used for test.\nX_train = digits.data[100:,:]\ny_train = digits.target[100:]",
      "execution_count": 6,
      "outputs": []
    },
    {
      "metadata": {
        "trusted": true
      },
      "cell_type": "code",
      "source": "count = 0\nsample_size = 30\nplt.figure(figsize = (16, 6))\nfor i in np.random.permutation(X_train.shape[0])[:sample_size]:\n    count = count + 1\n    plt.subplot(1, sample_size, count)\n    plt.axhline('')\n    plt.axvline('')\n    plt.text(x = 2, y = -2, s = y_train[i], fontsize = 18)\n    plt.imshow(X_train[i].reshape(8, 8), cmap = plt.cm.Greys)\nplt.show()",
      "execution_count": 7,
      "outputs": [
        {
          "output_type": "display_data",
          "data": {
            "image/png": "[encoded data removed]",
            "text/plain": "<matplotlib.figure.Figure at 0x7f5dd6f61550>"
          },
          "metadata": {}
        }
      ]
    },
    {
      "metadata": {
        "trusted": true
      },
      "cell_type": "code",
      "source": "from azureml.train.automl import AutoMLConfig\nAutoml_config = AutoMLConfig(task = 'classification',\n                             primary_metric = 'accuracy',\n                             max_time_sec = 120,\n                             iterations = 10,\n                             n_cross_validations = 5,\n                             preprocess = False,\n                             exit_score = 0.99,\n                             ##blacklist_algos = ['kNN','LinearSVM'],\n                             X = X_train,\n                             y = y_train,\n                             path=project_folder)",
      "execution_count": 11,
      "outputs": []
    },
    {
      "metadata": {
        "trusted": true
      },
      "cell_type": "code",
      "source": "from azureml.core.experiment import Experiment\nexperiment=Experiment(ws, experiment_name)\nlocal_run = experiment.submit(Automl_config, show_output=True)",
      "execution_count": 12,
      "outputs": [
        {
          "output_type": "stream",
          "text": "Parent Run ID: AutoML_78622867-bcab-4ce1-b5e5-e56299ce97a3\n***********************************************************************************************\nITERATION: The iteration being evaluated.\nPIPELINE: A summary description of the pipeline being evaluated.\nDURATION: Time taken for the current iteration.\nMETRIC: The result of computing score on the fitted pipeline.\nBEST: The best observed score thus far.\n***********************************************************************************************\n\n ITERATION     PIPELINE                               DURATION                METRIC      BEST\n         0      StandardScalerWrapper ExtraTreesClassi0:00:52.567145           0.689     0.689\n         1      MinMaxScaler KNeighborsClassifier     0:00:49.292770           0.987     0.987\n         2      MaxAbsScaler DecisionTreeClassifier   0:00:46.750076           0.275     0.987\n         3      StandardScalerWrapper KNeighborsClassi0:00:52.685988           0.972     0.987\n         4      StandardScalerWrapper KNeighborsClassi0:00:51.847640           0.968     0.987\n         5      SparseNormalizer SGDClassifierWrapper 0:00:44.473922           0.091     0.987\n         6      MaxAbsScaler LightGBMClassifier       0:00:55.829465           0.761     0.987\n         7      PCA SGDClassifierWrapper              0:00:50.978575           0.204     0.987\n         8      PCA NBWrapper                         0:00:45.703183           0.077     0.987\n         9      SparseNormalizer GradientBoostingClass0:00:49.677598           0.072     0.987\n",
          "name": "stdout"
        }
      ]
    },
    {
      "metadata": {
        "trusted": true,
        "scrolled": true
      },
      "cell_type": "code",
      "source": "from azureml.core.experiment import Experiment\nexperiment=Experiment(ws, experiment_name)\nlocal_run = AutoMLRun(experiment, \"AutoML_6399013a-e320-4a3a-a248-fa8432ce0013\")\n\nfrom azureml.train.widgets import RunDetails\nRunDetails(local_run).show()",
      "execution_count": 13,
      "outputs": [
        {
          "output_type": "display_data",
          "data": {
            "application/vnd.jupyter.widget-view+json": {
              "model_id": "01cf108829264d11870a52a85cdca7b4",
              "version_minor": 0,
              "version_major": 2
            },
            "text/plain": "_AutoML(widget_settings={'childWidgetDisplay': 'popup'})"
          },
          "metadata": {}
        }
      ]
    },
    {
      "metadata": {
        "trusted": true
      },
      "cell_type": "code",
      "source": "children = list(local_run.get_children())\nmetricslist = {}\nfor run in children:\n    properties = run.get_properties()\n    metrics = {k: v for k, v in run.get_metrics().items() if isinstance(v, float)}\n    metricslist[int(properties['iteration'])] = metrics\n\nimport pandas as pd\nrundata = pd.DataFrame(metricslist).sort_index(1)\nrundata",
      "execution_count": 20,
      "outputs": [
        {
          "output_type": "execute_result",
          "execution_count": 20,
          "data": {
            "text/html": "<div>\n<style scoped>\n    .dataframe tbody tr th:only-of-type {\n        vertical-align: middle;\n    }\n\n    .dataframe tbody tr th {\n        vertical-align: top;\n    }\n\n    .dataframe thead th {\n        text-align: right;\n    }\n</style>\n<table border=\"1\" class=\"dataframe\">\n  <thead>\n    <tr style=\"text-align: right;\">\n      <th></th>\n      <th>0</th>\n      <th>1</th>\n      <th>2</th>\n      <th>3</th>\n      <th>4</th>\n      <th>5</th>\n      <th>6</th>\n      <th>7</th>\n      <th>8</th>\n      <th>9</th>\n    </tr>\n  </thead>\n  <tbody>\n    <tr>\n      <th>AUC_macro</th>\n      <td>0.949786</td>\n      <td>0.996163</td>\n      <td>0.779300</td>\n      <td>0.998939</td>\n      <td>0.999245</td>\n      <td>0.500000</td>\n      <td>0.966204</td>\n      <td>0.688310</td>\n      <td>0.506201</td>\n      <td>0.500000</td>\n    </tr>\n    <tr>\n      <th>AUC_micro</th>\n      <td>0.943599</td>\n      <td>0.996079</td>\n      <td>0.814377</td>\n      <td>0.998999</td>\n      <td>0.999374</td>\n      <td>0.482275</td>\n      <td>0.965067</td>\n      <td>0.691380</td>\n      <td>0.471076</td>\n      <td>0.468659</td>\n    </tr>\n    <tr>\n      <th>AUC_weighted</th>\n      <td>0.949502</td>\n      <td>0.996065</td>\n      <td>0.777518</td>\n      <td>0.998924</td>\n      <td>0.999242</td>\n      <td>0.500000</td>\n      <td>0.966475</td>\n      <td>0.690270</td>\n      <td>0.506240</td>\n      <td>0.500000</td>\n    </tr>\n    <tr>\n      <th>accuracy</th>\n      <td>0.688850</td>\n      <td>0.987040</td>\n      <td>0.274635</td>\n      <td>0.972301</td>\n      <td>0.968176</td>\n      <td>0.091319</td>\n      <td>0.760791</td>\n      <td>0.203920</td>\n      <td>0.076609</td>\n      <td>0.072488</td>\n    </tr>\n    <tr>\n      <th>accuracy_max</th>\n      <td>0.688850</td>\n      <td>0.987040</td>\n      <td>0.987040</td>\n      <td>0.987040</td>\n      <td>0.987040</td>\n      <td>0.987040</td>\n      <td>0.987040</td>\n      <td>0.987040</td>\n      <td>0.987040</td>\n      <td>0.987040</td>\n    </tr>\n    <tr>\n      <th>average_precision_score_macro</th>\n      <td>0.783325</td>\n      <td>0.986964</td>\n      <td>0.242587</td>\n      <td>0.995699</td>\n      <td>0.994101</td>\n      <td>0.100000</td>\n      <td>0.842710</td>\n      <td>0.280212</td>\n      <td>0.106529</td>\n      <td>0.100000</td>\n    </tr>\n    <tr>\n      <th>average_precision_score_micro</th>\n      <td>0.721437</td>\n      <td>0.986864</td>\n      <td>0.285580</td>\n      <td>0.995728</td>\n      <td>0.994968</td>\n      <td>0.096535</td>\n      <td>0.814555</td>\n      <td>0.298887</td>\n      <td>0.095932</td>\n      <td>0.092042</td>\n    </tr>\n    <tr>\n      <th>average_precision_score_weighted</th>\n      <td>0.786068</td>\n      <td>0.987011</td>\n      <td>0.245415</td>\n      <td>0.995732</td>\n      <td>0.994279</td>\n      <td>0.102123</td>\n      <td>0.847455</td>\n      <td>0.284874</td>\n      <td>0.108980</td>\n      <td>0.102123</td>\n    </tr>\n    <tr>\n      <th>balanced_accuracy</th>\n      <td>0.827896</td>\n      <td>0.992949</td>\n      <td>0.608918</td>\n      <td>0.984729</td>\n      <td>0.982361</td>\n      <td>0.500000</td>\n      <td>0.867853</td>\n      <td>0.556479</td>\n      <td>0.503395</td>\n      <td>0.500000</td>\n    </tr>\n    <tr>\n      <th>f1_score_macro</th>\n      <td>0.652786</td>\n      <td>0.986668</td>\n      <td>0.150318</td>\n      <td>0.971549</td>\n      <td>0.967318</td>\n      <td>0.016680</td>\n      <td>0.753361</td>\n      <td>0.077186</td>\n      <td>0.024761</td>\n      <td>0.013493</td>\n    </tr>\n    <tr>\n      <th>f1_score_micro</th>\n      <td>0.688850</td>\n      <td>0.987040</td>\n      <td>0.274635</td>\n      <td>0.972301</td>\n      <td>0.968176</td>\n      <td>0.091319</td>\n      <td>0.760791</td>\n      <td>0.203920</td>\n      <td>0.076609</td>\n      <td>0.072488</td>\n    </tr>\n    <tr>\n      <th>f1_score_weighted</th>\n      <td>0.654476</td>\n      <td>0.986953</td>\n      <td>0.141127</td>\n      <td>0.972183</td>\n      <td>0.967971</td>\n      <td>0.015841</td>\n      <td>0.756681</td>\n      <td>0.080181</td>\n      <td>0.021639</td>\n      <td>0.010051</td>\n    </tr>\n    <tr>\n      <th>log_loss</th>\n      <td>1.428039</td>\n      <td>0.254781</td>\n      <td>1.765974</td>\n      <td>0.138200</td>\n      <td>0.153531</td>\n      <td>2.445459</td>\n      <td>2.301553</td>\n      <td>2.171522</td>\n      <td>2.304923</td>\n      <td>2.307474</td>\n    </tr>\n    <tr>\n      <th>norm_macro_recall</th>\n      <td>0.655953</td>\n      <td>0.985928</td>\n      <td>0.219761</td>\n      <td>0.969478</td>\n      <td>0.964730</td>\n      <td>0.000000</td>\n      <td>0.735829</td>\n      <td>0.112780</td>\n      <td>0.006805</td>\n      <td>0.000000</td>\n    </tr>\n    <tr>\n      <th>precision_score_macro</th>\n      <td>0.701847</td>\n      <td>0.986675</td>\n      <td>0.108628</td>\n      <td>0.972415</td>\n      <td>0.968045</td>\n      <td>0.009132</td>\n      <td>0.765651</td>\n      <td>0.050867</td>\n      <td>0.133768</td>\n      <td>0.007249</td>\n    </tr>\n    <tr>\n      <th>precision_score_micro</th>\n      <td>0.688850</td>\n      <td>0.987040</td>\n      <td>0.274635</td>\n      <td>0.972301</td>\n      <td>0.968176</td>\n      <td>0.091319</td>\n      <td>0.760791</td>\n      <td>0.203920</td>\n      <td>0.076609</td>\n      <td>0.072488</td>\n    </tr>\n    <tr>\n      <th>precision_score_weighted</th>\n      <td>0.706071</td>\n      <td>0.987510</td>\n      <td>0.103001</td>\n      <td>0.973804</td>\n      <td>0.969415</td>\n      <td>0.008700</td>\n      <td>0.771891</td>\n      <td>0.052959</td>\n      <td>0.141406</td>\n      <td>0.005411</td>\n    </tr>\n    <tr>\n      <th>recall_score_macro</th>\n      <td>0.690358</td>\n      <td>0.987335</td>\n      <td>0.297785</td>\n      <td>0.972531</td>\n      <td>0.968257</td>\n      <td>0.100000</td>\n      <td>0.762246</td>\n      <td>0.201502</td>\n      <td>0.106124</td>\n      <td>0.100000</td>\n    </tr>\n    <tr>\n      <th>recall_score_micro</th>\n      <td>0.688850</td>\n      <td>0.987040</td>\n      <td>0.274635</td>\n      <td>0.972301</td>\n      <td>0.968176</td>\n      <td>0.091319</td>\n      <td>0.760791</td>\n      <td>0.203920</td>\n      <td>0.076609</td>\n      <td>0.072488</td>\n    </tr>\n    <tr>\n      <th>recall_score_weighted</th>\n      <td>0.688850</td>\n      <td>0.987040</td>\n      <td>0.274635</td>\n      <td>0.972301</td>\n      <td>0.968176</td>\n      <td>0.091319</td>\n      <td>0.760791</td>\n      <td>0.203920</td>\n      <td>0.076609</td>\n      <td>0.072488</td>\n    </tr>\n    <tr>\n      <th>weighted_accuracy</th>\n      <td>0.687144</td>\n      <td>0.986931</td>\n      <td>0.254552</td>\n      <td>0.972301</td>\n      <td>0.968277</td>\n      <td>0.085163</td>\n      <td>0.759773</td>\n      <td>0.208767</td>\n      <td>0.055889</td>\n      <td>0.053119</td>\n    </tr>\n  </tbody>\n</table>\n</div>",
            "text/plain": "                                         0         1         2         3  \\\nAUC_macro                         0.949786  0.996163  0.779300  0.998939   \nAUC_micro                         0.943599  0.996079  0.814377  0.998999   \nAUC_weighted                      0.949502  0.996065  0.777518  0.998924   \naccuracy                          0.688850  0.987040  0.274635  0.972301   \naccuracy_max                      0.688850  0.987040  0.987040  0.987040   \naverage_precision_score_macro     0.783325  0.986964  0.242587  0.995699   \naverage_precision_score_micro     0.721437  0.986864  0.285580  0.995728   \naverage_precision_score_weighted  0.786068  0.987011  0.245415  0.995732   \nbalanced_accuracy                 0.827896  0.992949  0.608918  0.984729   \nf1_score_macro                    0.652786  0.986668  0.150318  0.971549   \nf1_score_micro                    0.688850  0.987040  0.274635  0.972301   \nf1_score_weighted                 0.654476  0.986953  0.141127  0.972183   \nlog_loss                          1.428039  0.254781  1.765974  0.138200   \nnorm_macro_recall                 0.655953  0.985928  0.219761  0.969478   \nprecision_score_macro             0.701847  0.986675  0.108628  0.972415   \nprecision_score_micro             0.688850  0.987040  0.274635  0.972301   \nprecision_score_weighted          0.706071  0.987510  0.103001  0.973804   \nrecall_score_macro                0.690358  0.987335  0.297785  0.972531   \nrecall_score_micro                0.688850  0.987040  0.274635  0.972301   \nrecall_score_weighted             0.688850  0.987040  0.274635  0.972301   \nweighted_accuracy                 0.687144  0.986931  0.254552  0.972301   \n\n                                         4         5         6         7  \\\nAUC_macro                         0.999245  0.500000  0.966204  0.688310   \nAUC_micro                         0.999374  0.482275  0.965067  0.691380   \nAUC_weighted                      0.999242  0.500000  0.966475  0.690270   \naccuracy                          0.968176  0.091319  0.760791  0.203920   \naccuracy_max                      0.987040  0.987040  0.987040  0.987040   \naverage_precision_score_macro     0.994101  0.100000  0.842710  0.280212   \naverage_precision_score_micro     0.994968  0.096535  0.814555  0.298887   \naverage_precision_score_weighted  0.994279  0.102123  0.847455  0.284874   \nbalanced_accuracy                 0.982361  0.500000  0.867853  0.556479   \nf1_score_macro                    0.967318  0.016680  0.753361  0.077186   \nf1_score_micro                    0.968176  0.091319  0.760791  0.203920   \nf1_score_weighted                 0.967971  0.015841  0.756681  0.080181   \nlog_loss                          0.153531  2.445459  2.301553  2.171522   \nnorm_macro_recall                 0.964730  0.000000  0.735829  0.112780   \nprecision_score_macro             0.968045  0.009132  0.765651  0.050867   \nprecision_score_micro             0.968176  0.091319  0.760791  0.203920   \nprecision_score_weighted          0.969415  0.008700  0.771891  0.052959   \nrecall_score_macro                0.968257  0.100000  0.762246  0.201502   \nrecall_score_micro                0.968176  0.091319  0.760791  0.203920   \nrecall_score_weighted             0.968176  0.091319  0.760791  0.203920   \nweighted_accuracy                 0.968277  0.085163  0.759773  0.208767   \n\n                                         8         9  \nAUC_macro                         0.506201  0.500000  \nAUC_micro                         0.471076  0.468659  \nAUC_weighted                      0.506240  0.500000  \naccuracy                          0.076609  0.072488  \naccuracy_max                      0.987040  0.987040  \naverage_precision_score_macro     0.106529  0.100000  \naverage_precision_score_micro     0.095932  0.092042  \naverage_precision_score_weighted  0.108980  0.102123  \nbalanced_accuracy                 0.503395  0.500000  \nf1_score_macro                    0.024761  0.013493  \nf1_score_micro                    0.076609  0.072488  \nf1_score_weighted                 0.021639  0.010051  \nlog_loss                          2.304923  2.307474  \nnorm_macro_recall                 0.006805  0.000000  \nprecision_score_macro             0.133768  0.007249  \nprecision_score_micro             0.076609  0.072488  \nprecision_score_weighted          0.141406  0.005411  \nrecall_score_macro                0.106124  0.100000  \nrecall_score_micro                0.076609  0.072488  \nrecall_score_weighted             0.076609  0.072488  \nweighted_accuracy                 0.055889  0.053119  "
          },
          "metadata": {}
        }
      ]
    },
    {
      "metadata": {},
      "cell_type": "markdown",
      "source": "# 注册Best Model"
    },
    {
      "metadata": {
        "trusted": true
      },
      "cell_type": "code",
      "source": "# find the run with the highest accuracy value.\nbest_run, fitted_model = local_run.get_output()\n\n# register model in workspace\ndescription = 'Automated Machine Learning Model'\ntags = None\nmodel = local_run.register_model(description=description, tags=tags)\nlocal_run.model_id # Use this id to deploy the model as a web service in Azure",
      "execution_count": 21,
      "outputs": [
        {
          "output_type": "stream",
          "text": "Registering model AutoML6399013aebest\n",
          "name": "stdout"
        },
        {
          "output_type": "execute_result",
          "execution_count": 21,
          "data": {
            "text/plain": "'AutoML6399013aebest'"
          },
          "metadata": {}
        }
      ]
    },
    {
      "metadata": {
        "trusted": true
      },
      "cell_type": "code",
      "source": "%%writefile score.py\nimport pickle\nimport json\nimport numpy\nfrom sklearn.externals import joblib\nfrom azureml.core.model import Model\n\n\ndef init():\n    global model\n    model_path = Model.get_model_path(model_name = '<<modelid>>') # this name is model.id of model that we want to deploy\n    # deserialize the model file back into a sklearn model\n    model = joblib.load(model_path)\n\ndef run(rawdata):\n    try:\n        data = json.loads(rawdata)['data']\n        data = numpy.array(data)\n        result = model.predict(data)\n    except Exception as e:\n        result = str(e)\n        return json.dumps({\"error\": result})\n    return json.dumps({\"result\":result.tolist()})",
      "execution_count": 26,
      "outputs": [
        {
          "output_type": "stream",
          "text": "Overwriting score.py\n",
          "name": "stdout"
        }
      ]
    },
    {
      "metadata": {
        "trusted": true
      },
      "cell_type": "code",
      "source": "experiment_name = 'automl-classifier'\n\nexperiment = Experiment(ws, experiment_name)\nml_run = AutoMLRun(experiment = experiment, run_id = local_run.id)\ndependencies = ml_run.get_run_sdk_dependencies(iteration = 3)",
      "execution_count": 27,
      "outputs": [
        {
          "output_type": "stream",
          "text": "No issues found in the SDK package versions.\n",
          "name": "stdout"
        }
      ]
    },
    {
      "metadata": {
        "trusted": true
      },
      "cell_type": "code",
      "source": "for p in ['azureml-train-automl', 'azureml-sdk', 'azureml-core']:\n    print('{}\\t{}'.format(p, dependencies[p]))",
      "execution_count": 28,
      "outputs": [
        {
          "output_type": "stream",
          "text": "azureml-train-automl\t0.1.65\nazureml-sdk\t0.1.65\nazureml-core\t0.1.65\n",
          "name": "stdout"
        }
      ]
    },
    {
      "metadata": {
        "trusted": true
      },
      "cell_type": "code",
      "source": "%%writefile myenv.yml\nname: myenv\nchannels:\n  - defaults\ndependencies:\n  - pip:\n    - numpy==1.14.2\n    - scikit-learn==0.19.2\n    - azureml-sdk[notebooks,automl]==<<azureml-version>>",
      "execution_count": 29,
      "outputs": [
        {
          "output_type": "stream",
          "text": "Overwriting myenv.yml\n",
          "name": "stdout"
        }
      ]
    },
    {
      "metadata": {
        "trusted": true
      },
      "cell_type": "code",
      "source": "# Substitute the actual version number in the environment file.\n\nconda_env_file_name = 'myenv.yml'\n\nwith open(conda_env_file_name, 'r') as cefr:\n    content = cefr.read()\n\nwith open(conda_env_file_name, 'w') as cefw:\n    cefw.write(content.replace('<<azureml-version>>', dependencies['azureml-sdk']))\n\n# Substitute the actual model id in the script file.\n\nscript_file_name = 'score.py'\n\nwith open(script_file_name, 'r') as cefr:\n    content = cefr.read()\n\nwith open(script_file_name, 'w') as cefw:\n    cefw.write(content.replace('<<modelid>>', local_run.model_id))",
      "execution_count": 30,
      "outputs": []
    },
    {
      "metadata": {},
      "cell_type": "markdown",
      "source": "# 创建Docker Image"
    },
    {
      "metadata": {
        "trusted": true
      },
      "cell_type": "code",
      "source": "from azureml.core.image import Image, ContainerImage\n\nimage_config = ContainerImage.image_configuration(runtime= \"python\",\n                                 execution_script = script_file_name,\n                                 conda_file = conda_env_file_name,\n                                 tags = {'area': \"digits\", 'type': \"automl_classification\"},\n                                 description = \"Image for automl classification sample\")\n\nimage = Image.create(name = \"automlsampleimage\",\n                     # this is the model object \n                     models = [model],\n                     image_config = image_config, \n                     workspace = ws)\n\nimage.wait_for_creation(show_output = True)",
      "execution_count": 31,
      "outputs": [
        {
          "output_type": "stream",
          "text": "Creating image\nRunning....................\nSucceededImage creation operation finished for image automlsampleimage:6, operation \"Succeeded\"\n",
          "name": "stdout"
        }
      ]
    },
    {
      "metadata": {},
      "cell_type": "markdown",
      "source": "# 部署ACI Web Service"
    },
    {
      "metadata": {
        "trusted": true
      },
      "cell_type": "code",
      "source": "from azureml.core.webservice import AciWebservice\nfrom azureml.core.webservice import Webservice\n\naciconfig = AciWebservice.deploy_configuration(cpu_cores = 1, \n                                               memory_gb = 1, \n                                               tags = {'area': \"digits\", 'type': \"automl_classification\"}, \n                                               description = 'sample service for Automl Classification')\n\naci_service_name = 'automl-aci-01'\naci_service = AciWebservice(ws, aci_service_name)\nprint(aci_service.state)\n\nif(aci_service.state != 'Healthy'):\n    aci_service_name = 'automl-aci-02'\n    aci_service = Webservice.deploy_from_image(deployment_config = aciconfig,\n                                           image = image,\n                                           name = aci_service_name,\n                                           workspace = ws)\n    aci_service.wait_for_deployment(True)",
      "execution_count": 32,
      "outputs": [
        {
          "output_type": "stream",
          "text": "Healthy\n",
          "name": "stdout"
        }
      ]
    },
    {
      "metadata": {},
      "cell_type": "markdown",
      "source": "# 创建AKS Cluster"
    },
    {
      "metadata": {
        "trusted": true
      },
      "cell_type": "code",
      "source": "from azureml.core.compute import AksCompute, ComputeTarget\n\n# Use the default configuration (you can also provide parameters to customize this)\nprov_config = AksCompute.provisioning_configuration()\n\naks_name = 'atuoml-aks-01' \n# Create the cluster\naks_target = ComputeTarget.create(workspace = ws, \n                                    name = aks_name, \n                                    provisioning_configuration = prov_config)\n\n# Wait for the create process to complete\naks_target.wait_for_completion(show_output = True)\nprint(aks_target.provisioning_state)\nprint(aks_target.provisioning_errors)",
      "execution_count": 33,
      "outputs": [
        {
          "output_type": "stream",
          "text": "SucceededProvisioning operation finished, operation \"Succeeded\"\nSucceeded\nNone\n",
          "name": "stdout"
        }
      ]
    },
    {
      "metadata": {},
      "cell_type": "markdown",
      "source": "# 部署 AKS Web Service"
    },
    {
      "metadata": {
        "trusted": true
      },
      "cell_type": "code",
      "source": "from azureml.core.webservice import Webservice, AksWebservice\n\n# Set configuration and service name\naks_config = AksWebservice.deploy_configuration()\naks_service_name ='atuoml-aks-srv-01'\naks_service = AksWebservice(ws, aks_service_name)\n\nif(aks_service.state != 'Healthy'):\n    # Deploy from image\n    aks_service = Webservice.deploy_from_image(workspace = ws, \n                                            name = aks_service_name,\n                                            image = image,\n                                            deployment_config = aks_config,\n                                            deployment_target = aks_target)\n    # Wait for the deployment to complete\n    aks_service.wait_for_deployment(show_output = True)\n    aks_service.get_logs()\n    print(aks_service.state)\n\nprint(aks_service.state)",
      "execution_count": 34,
      "outputs": [
        {
          "output_type": "stream",
          "text": "Healthy\n",
          "name": "stdout"
        }
      ]
    },
    {
      "metadata": {
        "trusted": true
      },
      "cell_type": "code",
      "source": "print(aks_service.scoring_uri)",
      "execution_count": 75,
      "outputs": [
        {
          "output_type": "stream",
          "text": "http://104.215.148.216/api/v1/service/atuoml-aks-srv-01/score\n",
          "name": "stdout"
        }
      ]
    },
    {
      "metadata": {
        "trusted": true
      },
      "cell_type": "code",
      "source": "print(aci_service.scoring_uri)",
      "execution_count": 76,
      "outputs": [
        {
          "output_type": "stream",
          "text": "http://52.163.87.19:80/score\n",
          "name": "stdout"
        }
      ]
    },
    {
      "metadata": {},
      "cell_type": "markdown",
      "source": "# 测试 ACI Web Service API"
    },
    {
      "metadata": {
        "trusted": true
      },
      "cell_type": "code",
      "source": "import json\nimport numpy as np\nfrom sklearn import datasets\n\n#Randomly select digits and test\ndigits = datasets.load_digits()\nX_test = digits.data[:10, :]\ny_test = digits.target[:10]\nimages = digits.images[:10]\n\nfor index in np.random.choice(len(y_test), 2, replace = False):\n    print(index)\n    test_sample = json.dumps({'data':X_test[index:index + 1].tolist()})\n    predicted = aci_service.run(input_data = test_sample)\n    label = y_test[index]\n    predictedDict = json.loads(predicted)\n    title = \"Label value = %d  Predicted value = %s \" % ( label,predictedDict['result'][0])\n    fig = plt.figure(1, figsize = (3,3))\n    ax1 = fig.add_axes((0,0,.8,.8))\n    ax1.set_title(title)\n    plt.imshow(images[index], cmap = plt.cm.gray_r, interpolation = 'nearest')\n    plt.show()",
      "execution_count": 54,
      "outputs": [
        {
          "output_type": "stream",
          "text": "0\n",
          "name": "stdout"
        },
        {
          "output_type": "display_data",
          "data": {
            "image/png": "[encoded data removed]",
            "text/plain": "<matplotlib.figure.Figure at 0x7f9e274d4588>"
          },
          "metadata": {}
        },
        {
          "output_type": "stream",
          "text": "7\n",
          "name": "stdout"
        },
        {
          "output_type": "display_data",
          "data": {
            "image/png": "[encoded data removed]",
            "text/plain": "<matplotlib.figure.Figure at 0x7f9e251c2898>"
          },
          "metadata": {}
        }
      ]
    },
    {
      "metadata": {},
      "cell_type": "markdown",
      "source": "# 测试AKS Web Service Rest API"
    },
    {
      "metadata": {
        "trusted": true
      },
      "cell_type": "code",
      "source": "import requests\nimport json\n\n# send a random row from the test set to score\nrandom_index = np.random.randint(0, len(X_test)-1)\ninput_data = \"{\\\"data\\\": [\" + str(list(X_test[random_index])) + \"]}\"\n\n#headers = {'Content-Type':'application/json'}\n\n# for AKS deployment you'd need to the service key in the header as well\napi_key = aks_service.get_keys()\nprint(api_key)\nheaders = {'Content-Type':'application/json','Authorization':('Bearer '+ api_key[0])} \n\nresp = requests.post(aks_service.scoring_uri, input_data, headers=headers)\n\nprint(\"POST to url\", aks_service.scoring_uri)\n# print(\"input data:\", input_data)\nprint(\"label:\", y_test[random_index])\nprint(\"prediction:\", resp.text)",
      "execution_count": 55,
      "outputs": [
        {
          "output_type": "stream",
          "text": "('UXdzMp0LpJDB1ZXUP2pxMAixaBbYe7I2', 'VvMViD8GpBONDZuvXcWNOPwQFwXuKNyP')\nPOST to url http://104.215.148.216/api/v1/service/atuoml-aks-srv-01/score\nlabel: 1\nprediction: \"{\\\"result\\\": [1]}\"\n",
          "name": "stdout"
        }
      ]
    },
    {
      "metadata": {
        "trusted": true
      },
      "cell_type": "code",
      "source": "import json\nimport numpy as np\nfrom sklearn import datasets\n\n#digits = datasets.load_digits()\n#Randomly select digits and test\ndigits = datasets.load_digits()\nX_test = digits.data[:10, :]\ny_test = digits.target[:10]\nimages = digits.images[:10]\n\nfor index in np.random.choice(len(y_test), 2, replace = False):\n    print(index)\n    test_sample = json.dumps({'data':X_test[index:index + 1].tolist()})\n    predicted = aci_service.run(input_data = test_sample)\n    label = y_test[index]\n    predictedDict = json.loads(predicted)\n    title = \"Label value = %d  Predicted value = %s \" % ( label,predictedDict['result'][0])\n    fig = plt.figure(1, figsize = (3,3))\n    ax1 = fig.add_axes((0,0,.8,.8))\n    ax1.set_title(title)\n    plt.imshow(images[index], cmap = plt.cm.gray_r, interpolation = 'nearest')\n    plt.show()",
      "execution_count": 53,
      "outputs": [
        {
          "output_type": "stream",
          "text": "1\n",
          "name": "stdout"
        },
        {
          "output_type": "display_data",
          "data": {
            "image/png": "[encoded data removed]",
            "text/plain": "<matplotlib.figure.Figure at 0x7f9e24cfffd0>"
          },
          "metadata": {}
        },
        {
          "output_type": "stream",
          "text": "6\n",
          "name": "stdout"
        },
        {
          "output_type": "display_data",
          "data": {
            "image/png": "[encoded data removed]",
            "text/plain": "<matplotlib.figure.Figure at 0x7f9e24585ac8>"
          },
          "metadata": {}
        }
      ]
    },
    {
      "metadata": {
        "trusted": true
      },
      "cell_type": "code",
      "source": "",
      "execution_count": null,
      "outputs": []
    }
  ],
  "metadata": {
    "kernelspec": {
      "name": "python36",
      "display_name": "Python 3.6",
      "language": "python"
    },
    "language_info": {
      "mimetype": "text/x-python",
      "nbconvert_exporter": "python",
      "name": "python",
      "pygments_lexer": "ipython3",
      "version": "3.6.6",
      "file_extension": ".py",
      "codemirror_mode": {
        "version": 3,
        "name": "ipython"
      }
    }
  },
  "nbformat": 4,
  "nbformat_minor": 2
}